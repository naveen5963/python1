{
 "cells": [
  {
   "cell_type": "code",
   "execution_count": 1,
   "metadata": {
    "collapsed": false
   },
   "outputs": [
    {
     "name": "stdout",
     "output_type": "stream",
     "text": [
      "1.c\n",
      "1.cpp\n"
     ]
    }
   ],
   "source": [
    "print \"1.c\"\n",
    "print \"1.cpp\""
   ]
  },
  {
   "cell_type": "code",
   "execution_count": 2,
   "metadata": {
    "collapsed": false
   },
   "outputs": [
    {
     "name": "stdout",
     "output_type": "stream",
     "text": [
      "1.c\n",
      "2.cpp\n",
      "3.php\n",
      "4.python\n"
     ]
    }
   ],
   "source": [
    "print \"1.c\\n2.cpp\\n3.php\\n4.python\""
   ]
  },
  {
   "cell_type": "code",
   "execution_count": 3,
   "metadata": {
    "collapsed": false
   },
   "outputs": [
    {
     "name": "stdout",
     "output_type": "stream",
     "text": [
      "some starting statements\n",
      "1.c\n",
      "2.cpp\n",
      "3.php\n",
      "4.python\n",
      "Enter option:1\n",
      "some other statements\n",
      "ending statements\n"
     ]
    }
   ],
   "source": [
    "print \"some starting statements\"\n",
    "print \"1.c\\n2.cpp\\n3.php\\n4.python\"\n",
    "opt = raw_input(\"Enter option:\")\n",
    "if opt == 1:\n",
    "    print \"info for c\"\n",
    "if opt == 2:\n",
    "    print \"info for cpp\"\n",
    "if opt == 3:\n",
    "    print \"info for php\"\n",
    "if opt == 4:\n",
    "    print \"info for python\"\n",
    "print \"some other statements\"\n",
    "print \"ending statements\"\n"
   ]
  },
  {
   "cell_type": "code",
   "execution_count": 4,
   "metadata": {
    "collapsed": false
   },
   "outputs": [
    {
     "name": "stdout",
     "output_type": "stream",
     "text": [
      "some starting statements\n",
      "1.c\n",
      "2.cpp\n",
      "3.php\n",
      "4.python\n",
      "Enter option:1\n",
      "info for c\n",
      "some other statements\n",
      "ending statements\n"
     ]
    }
   ],
   "source": [
    "print \"some starting statements\"\n",
    "print \"1.c\\n2.cpp\\n3.php\\n4.python\"\n",
    "opt = raw_input(\"Enter option:\")\n",
    "if opt == '1':\n",
    "    print \"info for c\"\n",
    "if opt == '2':\n",
    "    print \"info for cpp\"\n",
    "if opt == '3':\n",
    "    print \"info for php\"\n",
    "if opt == '4':\n",
    "    print \"info for python\"\n",
    "print \"some other statements\"\n",
    "print \"ending statements\"\n"
   ]
  },
  {
   "cell_type": "code",
   "execution_count": 5,
   "metadata": {
    "collapsed": false
   },
   "outputs": [
    {
     "name": "stdout",
     "output_type": "stream",
     "text": [
      "some starting statements\n",
      "1.c\n",
      "2.cpp\n",
      "3.php\n",
      "4.python\n",
      "Enter option:2\n",
      "info for cpp\n",
      "some other statements\n",
      "ending statements\n"
     ]
    }
   ],
   "source": [
    "print \"some starting statements\"\n",
    "print \"1.c\\n2.cpp\\n3.php\\n4.python\"\n",
    "opt = raw_input(\"Enter option:\")\n",
    "if opt == '1':\n",
    "    print \"info for c\"\n",
    "if opt == '2':\n",
    "    print \"info for cpp\"\n",
    "if opt == '3':\n",
    "    print \"info for php\"\n",
    "if opt == '4':\n",
    "    print \"info for python\"\n",
    "print \"some other statements\"\n",
    "print \"ending statements\"\n"
   ]
  },
  {
   "cell_type": "code",
   "execution_count": 6,
   "metadata": {
    "collapsed": false
   },
   "outputs": [
    {
     "name": "stdout",
     "output_type": "stream",
     "text": [
      "some starting statements\n",
      "1.c\n",
      "2.cpp\n",
      "3.php\n",
      "4.python\n",
      "Enter option:3\n",
      "info for php\n",
      "some other statements\n",
      "ending statements\n"
     ]
    }
   ],
   "source": [
    "print \"some starting statements\"\n",
    "print \"1.c\\n2.cpp\\n3.php\\n4.python\"\n",
    "opt = raw_input(\"Enter option:\")\n",
    "if opt == '1':\n",
    "    print \"info for c\"\n",
    "if opt == '2':\n",
    "    print \"info for cpp\"\n",
    "if opt == '3':\n",
    "    print \"info for php\"\n",
    "if opt == '4':\n",
    "    print \"info for python\"\n",
    "print \"some other statements\"\n",
    "print \"ending statements\"\n"
   ]
  },
  {
   "cell_type": "code",
   "execution_count": 7,
   "metadata": {
    "collapsed": false
   },
   "outputs": [
    {
     "name": "stdout",
     "output_type": "stream",
     "text": [
      "some starting statements\n",
      "1.c\n",
      "2.cpp\n",
      "3.php\n",
      "4.python\n",
      "Enter option:4\n",
      "info for python\n",
      "some other statements\n",
      "ending statements\n"
     ]
    }
   ],
   "source": [
    "print \"some starting statements\"\n",
    "print \"1.c\\n2.cpp\\n3.php\\n4.python\"\n",
    "opt = raw_input(\"Enter option:\")\n",
    "if opt == '1':\n",
    "    print \"info for c\"\n",
    "if opt == '2':\n",
    "    print \"info for cpp\"\n",
    "if opt == '3':\n",
    "    print \"info for php\"\n",
    "if opt == '4':\n",
    "    print \"info for python\"\n",
    "print \"some other statements\"\n",
    "print \"ending statements\"\n"
   ]
  },
  {
   "cell_type": "code",
   "execution_count": 8,
   "metadata": {
    "collapsed": false
   },
   "outputs": [
    {
     "name": "stdout",
     "output_type": "stream",
     "text": [
      "some starting statements\n",
      "1.c\n",
      "2.cpp\n",
      "3.php\n",
      "4.python\n",
      "Enter option:5\n",
      "some other statements\n",
      "ending statements\n"
     ]
    }
   ],
   "source": [
    "print \"some starting statements\"\n",
    "print \"1.c\\n2.cpp\\n3.php\\n4.python\"\n",
    "opt = raw_input(\"Enter option:\")\n",
    "if opt == '1':\n",
    "    print \"info for c\"\n",
    "if opt == '2':\n",
    "    print \"info for cpp\"\n",
    "if opt == '3':\n",
    "    print \"info for php\"\n",
    "if opt == '4':\n",
    "    print \"info for python\"\n",
    "print \"some other statements\"\n",
    "print \"ending statements\"\n"
   ]
  },
  {
   "cell_type": "code",
   "execution_count": 9,
   "metadata": {
    "collapsed": false
   },
   "outputs": [
    {
     "name": "stdout",
     "output_type": "stream",
     "text": [
      "some starting statements\n",
      "1.c\n",
      "2.cpp\n",
      "3.php\n",
      "4.python\n",
      "Enter option:5\n",
      "invalid option\n",
      "some other statements\n",
      "ending statements\n"
     ]
    }
   ],
   "source": [
    "print \"some starting statements\"\n",
    "print \"1.c\\n2.cpp\\n3.php\\n4.python\"\n",
    "opt = raw_input(\"Enter option:\")\n",
    "if opt == '1':\n",
    "    print \"info for c\"\n",
    "if opt == '2':\n",
    "    print \"info for cpp\"\n",
    "if opt == '3':\n",
    "    print \"info for php\"\n",
    "if opt == '4':\n",
    "    print \"info for python\"\n",
    "else:\n",
    "    print \"invalid option\"\n",
    "print \"some other statements\"\n",
    "print \"ending statements\"\n"
   ]
  },
  {
   "cell_type": "code",
   "execution_count": 10,
   "metadata": {
    "collapsed": false
   },
   "outputs": [
    {
     "name": "stdout",
     "output_type": "stream",
     "text": [
      "some starting statements\n",
      "1.c\n",
      "2.cpp\n",
      "3.php\n",
      "4.python\n",
      "Enter option:3\n",
      "info for php\n",
      "invalid option\n",
      "some other statements\n",
      "ending statements\n"
     ]
    }
   ],
   "source": [
    "print \"some starting statements\"\n",
    "print \"1.c\\n2.cpp\\n3.php\\n4.python\"\n",
    "opt = raw_input(\"Enter option:\")\n",
    "if opt == '1':\n",
    "    print \"info for c\"\n",
    "if opt == '2':\n",
    "    print \"info for cpp\"\n",
    "if opt == '3':\n",
    "    print \"info for php\"\n",
    "if opt == '4':\n",
    "    print \"info for python\"\n",
    "else:\n",
    "    print \"invalid option\"\n",
    "print \"some other statements\"\n",
    "print \"ending statements\"\n"
   ]
  },
  {
   "cell_type": "code",
   "execution_count": 11,
   "metadata": {
    "collapsed": false
   },
   "outputs": [
    {
     "name": "stdout",
     "output_type": "stream",
     "text": [
      "some starting statements\n",
      "1.c\n",
      "2.cpp\n",
      "3.php\n",
      "4.python\n",
      "Enter option:2\n",
      "info for cpp\n",
      "some other statements\n",
      "ending statements\n"
     ]
    }
   ],
   "source": [
    "print \"some starting statements\"\n",
    "print \"1.c\\n2.cpp\\n3.php\\n4.python\"\n",
    "opt = raw_input(\"Enter option:\")\n",
    "if opt == '1':\n",
    "    print \"info for c\"\n",
    "elif opt == '2':\n",
    "    print \"info for cpp\"\n",
    "elif opt == '3':\n",
    "    print \"info for php\"\n",
    "elif opt == '4':\n",
    "    print \"info for python\"\n",
    "else:\n",
    "    print \"invalid option\"\n",
    "print \"some other statements\"\n",
    "print \"ending statements\"\n"
   ]
  },
  {
   "cell_type": "code",
   "execution_count": 12,
   "metadata": {
    "collapsed": false
   },
   "outputs": [
    {
     "name": "stdout",
     "output_type": "stream",
     "text": [
      "some starting statements\n",
      "1.c\n",
      "2.cpp\n",
      "3.php\n",
      "4.python\n",
      "Enter option:6\n",
      "invalid option\n",
      "some other statements\n",
      "ending statements\n"
     ]
    }
   ],
   "source": [
    "print \"some starting statements\"\n",
    "print \"1.c\\n2.cpp\\n3.php\\n4.python\"\n",
    "a = raw_input(\"Enter option:\")\n",
    "if a == '1':\n",
    "    print \"info for c\"\n",
    "elif a == '2':\n",
    "    print \"info for cpp\"\n",
    "elif a == '3':\n",
    "    print \"info for php\"\n",
    "elif a == '4':\n",
    "    print \"info for python\"\n",
    "else:\n",
    "    print \"invalid option\"\n",
    "print \"some other statements\"\n",
    "print \"ending statements\"\n"
   ]
  },
  {
   "cell_type": "code",
   "execution_count": null,
   "metadata": {
    "collapsed": true
   },
   "outputs": [],
   "source": [
    "#looping statements for while\n",
    "print \"some starting statements\"\n",
    "i=0\n",
    "while i<10:\n",
    "    print i\n",
    "print \"some other statements\"\n",
    "print \"ending statements\"\n",
    "\n"
   ]
  }
 ],
 "metadata": {
  "kernelspec": {
   "display_name": "Python 2",
   "language": "python",
   "name": "python2"
  },
  "language_info": {
   "codemirror_mode": {
    "name": "ipython",
    "version": 2
   },
   "file_extension": ".py",
   "mimetype": "text/x-python",
   "name": "python",
   "nbconvert_exporter": "python",
   "pygments_lexer": "ipython2",
   "version": "2.7.13"
  }
 },
 "nbformat": 4,
 "nbformat_minor": 2
}
