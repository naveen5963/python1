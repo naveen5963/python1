{
 "cells": [
  {
   "cell_type": "code",
   "execution_count": 1,
   "metadata": {
    "collapsed": false
   },
   "outputs": [
    {
     "name": "stdout",
     "output_type": "stream",
     "text": [
      "program starting statements\n",
      "otehr statements\n",
      "ending statements\n"
     ]
    }
   ],
   "source": [
    "print \"program starting statements\"\n",
    "def fun():\n",
    "    print \"this is function\"\n",
    "    print \"statement2 in function\"\n",
    "print \"otehr statements\"\n",
    "print \"ending statements\""
   ]
  },
  {
   "cell_type": "code",
   "execution_count": 2,
   "metadata": {
    "collapsed": false
   },
   "outputs": [
    {
     "data": {
      "text/plain": [
       "<function __main__.fun>"
      ]
     },
     "execution_count": 2,
     "metadata": {},
     "output_type": "execute_result"
    }
   ],
   "source": [
    "fun"
   ]
  },
  {
   "cell_type": "code",
   "execution_count": 3,
   "metadata": {
    "collapsed": false
   },
   "outputs": [
    {
     "name": "stdout",
     "output_type": "stream",
     "text": [
      "140348239965312\n"
     ]
    }
   ],
   "source": [
    "print id(fun)"
   ]
  },
  {
   "cell_type": "code",
   "execution_count": 4,
   "metadata": {
    "collapsed": true
   },
   "outputs": [],
   "source": [
    "a=fun"
   ]
  },
  {
   "cell_type": "code",
   "execution_count": 5,
   "metadata": {
    "collapsed": false
   },
   "outputs": [
    {
     "data": {
      "text/plain": [
       "140348239965312"
      ]
     },
     "execution_count": 5,
     "metadata": {},
     "output_type": "execute_result"
    }
   ],
   "source": [
    "id(a)"
   ]
  },
  {
   "cell_type": "code",
   "execution_count": 6,
   "metadata": {
    "collapsed": false
   },
   "outputs": [
    {
     "name": "stdout",
     "output_type": "stream",
     "text": [
      "program starting statements\n",
      "other statements\n",
      "this is function\n",
      "statement2 in function\n",
      "ending statements\n"
     ]
    }
   ],
   "source": [
    "print \"program starting statements\"\n",
    "def fun():\n",
    "    print \"this is function\"\n",
    "    print \"statement2 in function\"\n",
    "print \"other statements\"\n",
    "fun()\n",
    "print \"ending statements\""
   ]
  },
  {
   "cell_type": "code",
   "execution_count": 8,
   "metadata": {
    "collapsed": false
   },
   "outputs": [
    {
     "name": "stdout",
     "output_type": "stream",
     "text": [
      "program starting statements\n",
      "other statements\n",
      "this is function\n",
      "statement2 in function\n",
      "ending statements\n"
     ]
    }
   ],
   "source": [
    "print \"program starting statements\"\n",
    "def fun():\n",
    "    print \"this is function\"\n",
    "    print \"statement2 in function\"\n",
    "print \"other statements\"\n",
    "a=fun\n",
    "a()\n",
    "print \"ending statements\""
   ]
  },
  {
   "cell_type": "code",
   "execution_count": 9,
   "metadata": {
    "collapsed": false
   },
   "outputs": [
    {
     "name": "stdout",
     "output_type": "stream",
     "text": [
      "program starting statements\n",
      "other statements\n",
      "this is function\n",
      "statement2 in function\n",
      "ending statements\n"
     ]
    }
   ],
   "source": [
    "print \"program starting statements\"\n",
    "def fun():\n",
    "    print \"this is function\"\n",
    "    print \"statement2 in function\"\n",
    "print \"other statements\"\n",
    "a=fun()\n",
    "\n",
    "print \"ending statements\""
   ]
  },
  {
   "cell_type": "code",
   "execution_count": 10,
   "metadata": {
    "collapsed": false
   },
   "outputs": [
    {
     "name": "stdout",
     "output_type": "stream",
     "text": [
      "a= None\n"
     ]
    }
   ],
   "source": [
    "print \"a=\",a"
   ]
  },
  {
   "cell_type": "code",
   "execution_count": 11,
   "metadata": {
    "collapsed": false
   },
   "outputs": [
    {
     "name": "stdout",
     "output_type": "stream",
     "text": [
      "program starting statements\n",
      "other statements\n",
      "a=10, b=20\n",
      "result= 30\n",
      "ending statements\n"
     ]
    }
   ],
   "source": [
    "print \"program starting statements\"\n",
    "def fun(a,b):\n",
    "    print \"a=%s, b=%s\"%(a,b)\n",
    "    c=a+b\n",
    "    print \"result=\",c\n",
    "print \"other statements\"\n",
    "a=fun(10,20)\n",
    "print \"ending statements\""
   ]
  },
  {
   "cell_type": "code",
   "execution_count": 12,
   "metadata": {
    "collapsed": false
   },
   "outputs": [
    {
     "name": "stdout",
     "output_type": "stream",
     "text": [
      "program starting statements\n",
      "other statements\n",
      "a=10, b=20\n",
      "result="
     ]
    },
    {
     "ename": "NameError",
     "evalue": "name 'c' is not defined",
     "output_type": "error",
     "traceback": [
      "\u001b[0;31m---------------------------------------------------------------------------\u001b[0m",
      "\u001b[0;31mNameError\u001b[0m                                 Traceback (most recent call last)",
      "\u001b[0;32m<ipython-input-12-820eb9f9d89f>\u001b[0m in \u001b[0;36m<module>\u001b[0;34m()\u001b[0m\n\u001b[1;32m      5\u001b[0m \u001b[0;32mprint\u001b[0m \u001b[0;34m\"other statements\"\u001b[0m\u001b[0;34m\u001b[0m\u001b[0m\n\u001b[1;32m      6\u001b[0m \u001b[0ma\u001b[0m\u001b[0;34m=\u001b[0m\u001b[0mfun\u001b[0m\u001b[0;34m(\u001b[0m\u001b[0;36m10\u001b[0m\u001b[0;34m,\u001b[0m\u001b[0;36m20\u001b[0m\u001b[0;34m)\u001b[0m\u001b[0;34m\u001b[0m\u001b[0m\n\u001b[0;32m----> 7\u001b[0;31m \u001b[0;32mprint\u001b[0m \u001b[0;34m\"result=\"\u001b[0m\u001b[0;34m,\u001b[0m\u001b[0mc\u001b[0m\u001b[0;34m\u001b[0m\u001b[0m\n\u001b[0m\u001b[1;32m      8\u001b[0m \u001b[0;32mprint\u001b[0m \u001b[0;34m\"ending statements\"\u001b[0m\u001b[0;34m\u001b[0m\u001b[0m\n",
      "\u001b[0;31mNameError\u001b[0m: name 'c' is not defined"
     ]
    }
   ],
   "source": [
    "print \"program starting statements\"\n",
    "def fun(a,b):\n",
    "    print \"a=%s, b=%s\"%(a,b)\n",
    "    c=a+b\n",
    "print \"other statements\"\n",
    "a=fun(10,20)\n",
    "print \"result=\",c\n",
    "print \"ending statements\""
   ]
  },
  {
   "cell_type": "code",
   "execution_count": 13,
   "metadata": {
    "collapsed": false
   },
   "outputs": [
    {
     "name": "stdout",
     "output_type": "stream",
     "text": [
      " program starting statements\n",
      "other statements\n",
      "function started\n",
      "a=10, b=20\n",
      "functiopn ended\n",
      "result="
     ]
    },
    {
     "ename": "NameError",
     "evalue": "name 'c' is not defined",
     "output_type": "error",
     "traceback": [
      "\u001b[0;31m---------------------------------------------------------------------------\u001b[0m",
      "\u001b[0;31mNameError\u001b[0m                                 Traceback (most recent call last)",
      "\u001b[0;32m<ipython-input-13-54a1d53998c2>\u001b[0m in \u001b[0;36m<module>\u001b[0;34m()\u001b[0m\n\u001b[1;32m      8\u001b[0m \u001b[0;32mprint\u001b[0m \u001b[0;34m\"other statements\"\u001b[0m\u001b[0;34m\u001b[0m\u001b[0m\n\u001b[1;32m      9\u001b[0m \u001b[0ma\u001b[0m\u001b[0;34m=\u001b[0m\u001b[0mfun\u001b[0m\u001b[0;34m(\u001b[0m\u001b[0;36m10\u001b[0m\u001b[0;34m,\u001b[0m\u001b[0;36m20\u001b[0m\u001b[0;34m)\u001b[0m\u001b[0;34m\u001b[0m\u001b[0m\n\u001b[0;32m---> 10\u001b[0;31m \u001b[0;32mprint\u001b[0m \u001b[0;34m\"result=\"\u001b[0m\u001b[0;34m,\u001b[0m\u001b[0mc\u001b[0m\u001b[0;34m\u001b[0m\u001b[0m\n\u001b[0m\u001b[1;32m     11\u001b[0m \u001b[0;32mprint\u001b[0m \u001b[0;34m\"ending statements\"\u001b[0m\u001b[0;34m\u001b[0m\u001b[0m\n",
      "\u001b[0;31mNameError\u001b[0m: name 'c' is not defined"
     ]
    }
   ],
   "source": [
    "print \"program starting statements\"\n",
    "def fun(a,b):\n",
    "    print \"function started\"\n",
    "    print \"a=%s, b=%s\"%(a,b)\n",
    "    c=a+b\n",
    "    print \"functiopn ended\"\n",
    "\n",
    "print \"other statements\"\n",
    "a=fun(10,20)\n",
    "print \"result=\",c\n",
    "print \"ending statements\""
   ]
  },
  {
   "cell_type": "code",
   "execution_count": 15,
   "metadata": {
    "collapsed": false
   },
   "outputs": [
    {
     "name": "stdout",
     "output_type": "stream",
     "text": [
      "program starting statements\n",
      "other statements\n",
      "function started\n",
      "a=10, b=20\n",
      "c inside function 30\n",
      "function ended\n",
      "c= None\n",
      "ending statements\n"
     ]
    }
   ],
   "source": [
    "print \"program starting statements\"\n",
    "c=None\n",
    "def fun(a,b):\n",
    "    print \"function started\"\n",
    "    print \"a=%s, b=%s\"%(a,b)\n",
    "    c=a+b\n",
    "    print \"c inside function\",c\n",
    "    print \"function ended\"\n",
    "\n",
    "print \"other statements\"\n",
    "a=fun(10,20)\n",
    "print \"c=\",c\n",
    "print \"ending statements\""
   ]
  },
  {
   "cell_type": "code",
   "execution_count": 17,
   "metadata": {
    "collapsed": false
   },
   "outputs": [
    {
     "name": "stdout",
     "output_type": "stream",
     "text": [
      "program starting statements\n",
      "other statements\n",
      "function started\n",
      "a=10, b=20\n",
      "id of c:  13024976\n",
      "c inside function 30\n",
      "function ended\n",
      "id of a: 13024976\n",
      "c= 30\n",
      "ending statements\n"
     ]
    }
   ],
   "source": [
    "print \"program starting statements\"\n",
    "def fun(a,b):\n",
    "    print \"function started\"\n",
    "    print \"a=%s, b=%s\"%(a,b)\n",
    "    c=a+b\n",
    "    print \"id of c: \",id(c)\n",
    "    print \"c inside function\",c\n",
    "    print \"function ended\"\n",
    "    return c\n",
    "\n",
    "print \"other statements\"\n",
    "a=fun(10,20)\n",
    "print \"id of a:\",id(a)\n",
    "print \"c=\",a\n",
    "print \"ending statements\""
   ]
  },
  {
   "cell_type": "code",
   "execution_count": 19,
   "metadata": {
    "collapsed": false
   },
   "outputs": [
    {
     "name": "stdout",
     "output_type": "stream",
     "text": [
      "program starting statements\n",
      "other statements\n",
      "function started\n",
      "a=1000, b=1000\n",
      "id of c:  21259392\n",
      "c inside function 2000\n",
      "function ended\n",
      "id of a: 21259392\n",
      "a= 2000\n",
      "ending statements\n"
     ]
    }
   ],
   "source": [
    "print \"program starting statements\"\n",
    "def fun(a,b):\n",
    "    print \"function started\"\n",
    "    print \"a=%s, b=%s\"%(a,b)\n",
    "    c=a+b\n",
    "    print \"id of c: \",id(c)\n",
    "    print \"c inside function\",c\n",
    "    print \"function ended\"\n",
    "    return c\n",
    "\n",
    "print \"other statements\"\n",
    "a=fun(1000,1000)\n",
    "print \"id of a:\",id(a)\n",
    "print \"a=\",a\n",
    "print \"ending statements\""
   ]
  },
  {
   "cell_type": "code",
   "execution_count": 21,
   "metadata": {
    "collapsed": false
   },
   "outputs": [
    {
     "name": "stdout",
     "output_type": "stream",
     "text": [
      "program starting statements\n",
      "other statements\n",
      "function started\n",
      "a=1000, b=1000\n",
      "id of d:  13025696\n",
      "c inside function 2000\n",
      "function ended\n",
      "id of a: 13025696\n",
      "a= 0\n",
      "ending statements\n"
     ]
    }
   ],
   "source": [
    "print \"program starting statements\"\n",
    "def fun(a,b):\n",
    "    print \"function started\"\n",
    "    print \"a=%s, b=%s\"%(a,b)\n",
    "    c=a+b\n",
    "    d=a-b\n",
    "    print \"id of d: \",id(d)\n",
    "    print \"c inside function\",c\n",
    "    print \"function ended\"\n",
    "    return d\n",
    "\n",
    "print \"other statements\"\n",
    "a=fun(1000,1000)\n",
    "print \"id of a:\",id(a)\n",
    "print \"a=\",a\n",
    "print \"ending statements\""
   ]
  },
  {
   "cell_type": "code",
   "execution_count": 22,
   "metadata": {
    "collapsed": false
   },
   "outputs": [
    {
     "name": "stdout",
     "output_type": "stream",
     "text": [
      "c= 210\n"
     ]
    }
   ],
   "source": [
    "def fun(a,b):\n",
    "    return a+b\n",
    "c=fun(10,200)\n",
    "print \"c=\",c"
   ]
  },
  {
   "cell_type": "code",
   "execution_count": 23,
   "metadata": {
    "collapsed": false
   },
   "outputs": [
    {
     "name": "stdout",
     "output_type": "stream",
     "text": [
      "210\n",
      "c= None\n"
     ]
    }
   ],
   "source": [
    "def fun(a,b):\n",
    "    print  a+b\n",
    "c=fun(10,200)\n",
    "print \"c=\",c"
   ]
  },
  {
   "cell_type": "code",
   "execution_count": 24,
   "metadata": {
    "collapsed": false
   },
   "outputs": [
    {
     "name": "stdout",
     "output_type": "stream",
     "text": [
      "c= <function fun at 0x7fa55e76aaa0>\n"
     ]
    }
   ],
   "source": [
    "def fun(a,b):\n",
    "    print  a+b\n",
    "c=fun\n",
    "print \"c=\",c"
   ]
  },
  {
   "cell_type": "code",
   "execution_count": 25,
   "metadata": {
    "collapsed": false
   },
   "outputs": [
    {
     "name": "stdout",
     "output_type": "stream",
     "text": [
      "c= 210\n"
     ]
    }
   ],
   "source": [
    "def fun(a,b):\n",
    "    return  a+b\n",
    "c=fun(10,200)\n",
    "print \"c=\",c"
   ]
  },
  {
   "cell_type": "code",
   "execution_count": 27,
   "metadata": {
    "collapsed": false
   },
   "outputs": [
    {
     "name": "stdout",
     "output_type": "stream",
     "text": [
      "d= 240\n"
     ]
    }
   ],
   "source": [
    "def fun(a,b):\n",
    "    return a+b\n",
    "c=fun\n",
    "d=c(10,230)\n",
    "print \"d=\",d"
   ]
  },
  {
   "cell_type": "code",
   "execution_count": 28,
   "metadata": {
    "collapsed": false
   },
   "outputs": [
    {
     "name": "stdout",
     "output_type": "stream",
     "text": [
      "statement1\n",
      "d= 240\n"
     ]
    }
   ],
   "source": [
    "def fun(a,b):\n",
    "    print \"statement1\"\n",
    "    return a+b\n",
    "    print \"statement2 \"\n",
    "    return a-b\n",
    "    print \"statement3\"\n",
    "    return a*b\n",
    "d=fun(10,230)\n",
    "print \"d=\",d"
   ]
  },
  {
   "cell_type": "code",
   "execution_count": null,
   "metadata": {
    "collapsed": true
   },
   "outputs": [],
   "source": []
  }
 ],
 "metadata": {
  "kernelspec": {
   "display_name": "Python 2",
   "language": "python",
   "name": "python2"
  },
  "language_info": {
   "codemirror_mode": {
    "name": "ipython",
    "version": 2
   },
   "file_extension": ".py",
   "mimetype": "text/x-python",
   "name": "python",
   "nbconvert_exporter": "python",
   "pygments_lexer": "ipython2",
   "version": "2.7.13"
  }
 },
 "nbformat": 4,
 "nbformat_minor": 2
}
