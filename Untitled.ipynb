{
 "cells": [
  {
   "cell_type": "code",
   "execution_count": 1,
   "metadata": {
    "collapsed": true
   },
   "outputs": [],
   "source": [
    "def fun():\n",
    "    print \"st1\"\n",
    "    print \"st2\""
   ]
  },
  {
   "cell_type": "code",
   "execution_count": 2,
   "metadata": {
    "collapsed": false
   },
   "outputs": [
    {
     "name": "stdout",
     "output_type": "stream",
     "text": [
      "st1\n",
      "st2\n"
     ]
    }
   ],
   "source": [
    "fun()"
   ]
  },
  {
   "cell_type": "code",
   "execution_count": 3,
   "metadata": {
    "collapsed": false
   },
   "outputs": [
    {
     "name": "stdout",
     "output_type": "stream",
     "text": [
      "st0\n",
      "st1\n",
      "st2\n",
      "st3\n",
      "st4\n",
      "st5\n",
      "st6\n",
      "st7\n",
      "st8\n",
      "st9\n"
     ]
    }
   ],
   "source": [
    "for i in range(10):\n",
    "    print \"st\"+str(i)"
   ]
  },
  {
   "cell_type": "code",
   "execution_count": 6,
   "metadata": {
    "collapsed": false
   },
   "outputs": [
    {
     "name": "stdout",
     "output_type": "stream",
     "text": [
      "program started\n",
      "st0\n",
      "st1\n",
      "st2\n",
      "st3\n",
      "st4\n",
      "a=10,b=20\n",
      "sumation of the values=30\n",
      "st1\n",
      "st2\n",
      "a=100,b=200\n",
      "summation of the values=300\n",
      "hello world\n",
      "some statrements\n",
      "a=1000,b=2000\n",
      "summatioin od the values=3000\n",
      "other statements in program\n",
      "program ended\n"
     ]
    }
   ],
   "source": [
    "print \"program started\"\n",
    "\n",
    "for i in range(5):\n",
    "    print \"st\"+str(i)\n",
    "a=10\n",
    "b=20\n",
    "print \"a=%s,b=%s\"%(a,b)\n",
    "res=a+b\n",
    "print \"sumation of the values={0}\".format(res)\n",
    "print \"st1\"\n",
    "print \"st2\"\n",
    "c=100\n",
    "d=200\n",
    "print \"a=%s,b=%s\"%(c,d)\n",
    "res=c+d\n",
    "print \"summation of the values={0}\".format(res)\n",
    "print \"hello world\"\n",
    "print \"some statrements\"\n",
    "e=1000\n",
    "f=2000\n",
    "print \"a=%s,b=%s\"%(e,f)\n",
    "res=e+f\n",
    "print \"summatioin od the values={0}\".format(res)\n",
    "\n",
    "print \"other statements in program\"\n",
    "print \"program ended\""
   ]
  },
  {
   "cell_type": "code",
   "execution_count": 8,
   "metadata": {
    "collapsed": false
   },
   "outputs": [
    {
     "name": "stdout",
     "output_type": "stream",
     "text": [
      "program started\n",
      "st0\n",
      "st1\n",
      "st2\n",
      "st3\n",
      "st4\n",
      "a=10,b=20\n",
      "summation fo the values=30\n",
      "st1\n",
      "st2\n",
      "a=100,b=200\n",
      "summation fo the values=300\n",
      "hello world\n",
      "some statrements\n",
      "a=1000,b=2000\n",
      "summation fo the values=3000\n",
      "other statements in program\n",
      "program ended\n"
     ]
    }
   ],
   "source": [
    "print \"program started\"\n",
    "\n",
    "for i in range(5):\n",
    "    print \"st\"+str(i)\n",
    "def fun(a,b):\n",
    "    print \"a=%s,b=%s\"%(a,b)\n",
    "    res=a+b\n",
    "    print \"summation fo the values={0}\".format(res)\n",
    "fun(10,20)\n",
    "print \"st1\"\n",
    "print \"st2\"\n",
    "fun(100,200)\n",
    "print \"hello world\"\n",
    "print \"some statrements\"\n",
    "fun(1000,2000)\n",
    "\n",
    "print \"other statements in program\"\n",
    "print \"program ended\""
   ]
  },
  {
   "cell_type": "code",
   "execution_count": 9,
   "metadata": {
    "collapsed": false
   },
   "outputs": [
    {
     "name": "stdout",
     "output_type": "stream",
     "text": [
      "Enter a value: 12\n"
     ]
    }
   ],
   "source": [
    "# app1. 400+20=420\n",
    "a=raw_input(\"Enter a value: \")\n",
    "\n",
    "#====================\n",
    "# app1. 400+20+3=423\n",
    "def fun():\n",
    "    a=raw_input(\"Enter a value:\")\n",
    "    return a"
   ]
  },
  {
   "cell_type": "code",
   "execution_count": 10,
   "metadata": {
    "collapsed": false
   },
   "outputs": [
    {
     "ename": "ZeroDivisionError",
     "evalue": "integer division or modulo by zero",
     "output_type": "error",
     "traceback": [
      "\u001b[0;31m---------------------------------------------------------------------------\u001b[0m",
      "\u001b[0;31mZeroDivisionError\u001b[0m                         Traceback (most recent call last)",
      "\u001b[0;32m<ipython-input-10-e19d6e6ac7e1>\u001b[0m in \u001b[0;36m<module>\u001b[0;34m()\u001b[0m\n\u001b[0;32m----> 1\u001b[0;31m \u001b[0;32mprint\u001b[0m \u001b[0;36m1\u001b[0m\u001b[0;34m/\u001b[0m\u001b[0;36m0\u001b[0m\u001b[0;34m\u001b[0m\u001b[0m\n\u001b[0m",
      "\u001b[0;31mZeroDivisionError\u001b[0m: integer division or modulo by zero"
     ]
    }
   ],
   "source": [
    "print 1/0"
   ]
  },
  {
   "cell_type": "code",
   "execution_count": 12,
   "metadata": {
    "collapsed": false
   },
   "outputs": [
    {
     "name": "stdout",
     "output_type": "stream",
     "text": [
      "statements belongs program start\n"
     ]
    },
    {
     "ename": "ValueError",
     "evalue": "invalid literal for int() with base 10: 'sdfsdfd'",
     "output_type": "error",
     "traceback": [
      "\u001b[0;31m---------------------------------------------------------------------------\u001b[0m",
      "\u001b[0;31mValueError\u001b[0m                                Traceback (most recent call last)",
      "\u001b[0;32m<ipython-input-12-fda53c2aa5fd>\u001b[0m in \u001b[0;36m<module>\u001b[0;34m()\u001b[0m\n\u001b[1;32m      1\u001b[0m \u001b[0;32mprint\u001b[0m \u001b[0;34m\"statements belongs program start\"\u001b[0m\u001b[0;34m\u001b[0m\u001b[0m\n\u001b[0;32m----> 2\u001b[0;31m \u001b[0;32mprint\u001b[0m \u001b[0mint\u001b[0m\u001b[0;34m(\u001b[0m\u001b[0;34m\"sdfsdfd\"\u001b[0m\u001b[0;34m)\u001b[0m\u001b[0;34m\u001b[0m\u001b[0m\n\u001b[0m\u001b[1;32m      3\u001b[0m \u001b[0;32mprint\u001b[0m \u001b[0;34m\"some statements\"\u001b[0m\u001b[0;34m\u001b[0m\u001b[0m\n",
      "\u001b[0;31mValueError\u001b[0m: invalid literal for int() with base 10: 'sdfsdfd'"
     ]
    }
   ],
   "source": [
    "print \"statements belongs program start\"\n",
    "print int(\"sdfsdfd\")\n",
    "print \"some statements\""
   ]
  },
  {
   "cell_type": "code",
   "execution_count": 14,
   "metadata": {
    "collapsed": false
   },
   "outputs": [
    {
     "name": "stdout",
     "output_type": "stream",
     "text": [
      "1,name,9876545676\n",
      "name2,2,9876545676\n",
      "9876545676,name3,3\n"
     ]
    }
   ],
   "source": [
    "data = \"1,name,9876545676\\nname2,2,9876545676\\n9876545676,name3,3\"\n",
    "print data"
   ]
  },
  {
   "cell_type": "code",
   "execution_count": 15,
   "metadata": {
    "collapsed": false
   },
   "outputs": [
    {
     "data": {
      "text/plain": [
       "['9876545676', '9876545676', '9876545676']"
      ]
     },
     "execution_count": 15,
     "metadata": {},
     "output_type": "execute_result"
    }
   ],
   "source": [
    "import re\n",
    "re.findall('[0-9]{10}',data)"
   ]
  },
  {
   "cell_type": "code",
   "execution_count": null,
   "metadata": {
    "collapsed": true
   },
   "outputs": [],
   "source": [
    "sambapython@gmail.com\n",
    "\n",
    "9676622023"
   ]
  }
 ],
 "metadata": {
  "kernelspec": {
   "display_name": "Python 2",
   "language": "python",
   "name": "python2"
  },
  "language_info": {
   "codemirror_mode": {
    "name": "ipython",
    "version": 2
   },
   "file_extension": ".py",
   "mimetype": "text/x-python",
   "name": "python",
   "nbconvert_exporter": "python",
   "pygments_lexer": "ipython2",
   "version": "2.7.13"
  }
 },
 "nbformat": 4,
 "nbformat_minor": 2
}
