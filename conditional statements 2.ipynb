{
 "cells": [
  {
   "cell_type": "code",
   "execution_count": 1,
   "metadata": {
    "collapsed": false
   },
   "outputs": [
    {
     "name": "stdout",
     "output_type": "stream",
     "text": [
      "1.c\n",
      "1.cpp\n"
     ]
    }
   ],
   "source": [
    "print \"1.c\"\n",
    "print \"1.cpp\""
   ]
  },
  {
   "cell_type": "code",
   "execution_count": 2,
   "metadata": {
    "collapsed": false
   },
   "outputs": [
    {
     "name": "stdout",
     "output_type": "stream",
     "text": [
      "1.c\n",
      "2.cpp\n",
      "3.php\n",
      "4.python\n"
     ]
    }
   ],
   "source": [
    "print \"1.c\\n2.cpp\\n3.php\\n4.python\""
   ]
  },
  {
   "cell_type": "code",
   "execution_count": 3,
   "metadata": {
    "collapsed": false
   },
   "outputs": [
    {
     "name": "stdout",
     "output_type": "stream",
     "text": [
      "some starting statements\n",
      "1.c\n",
      "2.cpp\n",
      "3.php\n",
      "4.python\n",
      "Enter option:1\n",
      "some other statements\n",
      "ending statements\n"
     ]
    }
   ],
   "source": [
    "print \"some starting statements\"\n",
    "print \"1.c\\n2.cpp\\n3.php\\n4.python\"\n",
    "opt = raw_input(\"Enter option:\")\n",
    "if opt == 1:\n",
    "    print \"info for c\"\n",
    "if opt == 2:\n",
    "    print \"info for cpp\"\n",
    "if opt == 3:\n",
    "    print \"info for php\"\n",
    "if opt == 4:\n",
    "    print \"info for python\"\n",
    "print \"some other statements\"\n",
    "print \"ending statements\"\n"
   ]
  },
  {
   "cell_type": "code",
   "execution_count": 4,
   "metadata": {
    "collapsed": false
   },
   "outputs": [
    {
     "name": "stdout",
     "output_type": "stream",
     "text": [
      "some starting statements\n",
      "1.c\n",
      "2.cpp\n",
      "3.php\n",
      "4.python\n",
      "Enter option:1\n",
      "info for c\n",
      "some other statements\n",
      "ending statements\n"
     ]
    }
   ],
   "source": [
    "print \"some starting statements\"\n",
    "print \"1.c\\n2.cpp\\n3.php\\n4.python\"\n",
    "opt = raw_input(\"Enter option:\")\n",
    "if opt == '1':\n",
    "    print \"info for c\"\n",
    "if opt == '2':\n",
    "    print \"info for cpp\"\n",
    "if opt == '3':\n",
    "    print \"info for php\"\n",
    "if opt == '4':\n",
    "    print \"info for python\"\n",
    "print \"some other statements\"\n",
    "print \"ending statements\"\n"
   ]
  },
  {
   "cell_type": "code",
   "execution_count": 5,
   "metadata": {
    "collapsed": false
   },
   "outputs": [
    {
     "name": "stdout",
     "output_type": "stream",
     "text": [
      "some starting statements\n",
      "1.c\n",
      "2.cpp\n",
      "3.php\n",
      "4.python\n",
      "Enter option:2\n",
      "info for cpp\n",
      "some other statements\n",
      "ending statements\n"
     ]
    }
   ],
   "source": [
    "print \"some starting statements\"\n",
    "print \"1.c\\n2.cpp\\n3.php\\n4.python\"\n",
    "opt = raw_input(\"Enter option:\")\n",
    "if opt == '1':\n",
    "    print \"info for c\"\n",
    "if opt == '2':\n",
    "    print \"info for cpp\"\n",
    "if opt == '3':\n",
    "    print \"info for php\"\n",
    "if opt == '4':\n",
    "    print \"info for python\"\n",
    "print \"some other statements\"\n",
    "print \"ending statements\"\n"
   ]
  },
  {
   "cell_type": "code",
   "execution_count": 6,
   "metadata": {
    "collapsed": false
   },
   "outputs": [
    {
     "name": "stdout",
     "output_type": "stream",
     "text": [
      "some starting statements\n",
      "1.c\n",
      "2.cpp\n",
      "3.php\n",
      "4.python\n",
      "Enter option:3\n",
      "info for php\n",
      "some other statements\n",
      "ending statements\n"
     ]
    }
   ],
   "source": [
    "print \"some starting statements\"\n",
    "print \"1.c\\n2.cpp\\n3.php\\n4.python\"\n",
    "opt = raw_input(\"Enter option:\")\n",
    "if opt == '1':\n",
    "    print \"info for c\"\n",
    "if opt == '2':\n",
    "    print \"info for cpp\"\n",
    "if opt == '3':\n",
    "    print \"info for php\"\n",
    "if opt == '4':\n",
    "    print \"info for python\"\n",
    "print \"some other statements\"\n",
    "print \"ending statements\"\n"
   ]
  },
  {
   "cell_type": "code",
   "execution_count": 7,
   "metadata": {
    "collapsed": false
   },
   "outputs": [
    {
     "name": "stdout",
     "output_type": "stream",
     "text": [
      "some starting statements\n",
      "1.c\n",
      "2.cpp\n",
      "3.php\n",
      "4.python\n",
      "Enter option:4\n",
      "info for python\n",
      "some other statements\n",
      "ending statements\n"
     ]
    }
   ],
   "source": [
    "print \"some starting statements\"\n",
    "print \"1.c\\n2.cpp\\n3.php\\n4.python\"\n",
    "opt = raw_input(\"Enter option:\")\n",
    "if opt == '1':\n",
    "    print \"info for c\"\n",
    "if opt == '2':\n",
    "    print \"info for cpp\"\n",
    "if opt == '3':\n",
    "    print \"info for php\"\n",
    "if opt == '4':\n",
    "    print \"info for python\"\n",
    "print \"some other statements\"\n",
    "print \"ending statements\"\n"
   ]
  },
  {
   "cell_type": "code",
   "execution_count": 8,
   "metadata": {
    "collapsed": false
   },
   "outputs": [
    {
     "name": "stdout",
     "output_type": "stream",
     "text": [
      "some starting statements\n",
      "1.c\n",
      "2.cpp\n",
      "3.php\n",
      "4.python\n",
      "Enter option:5\n",
      "some other statements\n",
      "ending statements\n"
     ]
    }
   ],
   "source": [
    "print \"some starting statements\"\n",
    "print \"1.c\\n2.cpp\\n3.php\\n4.python\"\n",
    "opt = raw_input(\"Enter option:\")\n",
    "if opt == '1':\n",
    "    print \"info for c\"\n",
    "if opt == '2':\n",
    "    print \"info for cpp\"\n",
    "if opt == '3':\n",
    "    print \"info for php\"\n",
    "if opt == '4':\n",
    "    print \"info for python\"\n",
    "print \"some other statements\"\n",
    "print \"ending statements\"\n"
   ]
  },
  {
   "cell_type": "code",
   "execution_count": 9,
   "metadata": {
    "collapsed": false
   },
   "outputs": [
    {
     "name": "stdout",
     "output_type": "stream",
     "text": [
      "some starting statements\n",
      "1.c\n",
      "2.cpp\n",
      "3.php\n",
      "4.python\n",
      "Enter option:5\n",
      "invalid option\n",
      "some other statements\n",
      "ending statements\n"
     ]
    }
   ],
   "source": [
    "print \"some starting statements\"\n",
    "print \"1.c\\n2.cpp\\n3.php\\n4.python\"\n",
    "opt = raw_input(\"Enter option:\")\n",
    "if opt == '1':\n",
    "    print \"info for c\"\n",
    "if opt == '2':\n",
    "    print \"info for cpp\"\n",
    "if opt == '3':\n",
    "    print \"info for php\"\n",
    "if opt == '4':\n",
    "    print \"info for python\"\n",
    "else:\n",
    "    print \"invalid option\"\n",
    "print \"some other statements\"\n",
    "print \"ending statements\"\n"
   ]
  },
  {
   "cell_type": "code",
   "execution_count": 10,
   "metadata": {
    "collapsed": false
   },
   "outputs": [
    {
     "name": "stdout",
     "output_type": "stream",
     "text": [
      "some starting statements\n",
      "1.c\n",
      "2.cpp\n",
      "3.php\n",
      "4.python\n",
      "Enter option:3\n",
      "info for php\n",
      "invalid option\n",
      "some other statements\n",
      "ending statements\n"
     ]
    }
   ],
   "source": [
    "print \"some starting statements\"\n",
    "print \"1.c\\n2.cpp\\n3.php\\n4.python\"\n",
    "opt = raw_input(\"Enter option:\")\n",
    "if opt == '1':\n",
    "    print \"info for c\"\n",
    "if opt == '2':\n",
    "    print \"info for cpp\"\n",
    "if opt == '3':\n",
    "    print \"info for php\"\n",
    "if opt == '4':\n",
    "    print \"info for python\"\n",
    "else:\n",
    "    print \"invalid option\"\n",
    "print \"some other statements\"\n",
    "print \"ending statements\"\n"
   ]
  },
  {
   "cell_type": "code",
   "execution_count": 11,
   "metadata": {
    "collapsed": false
   },
   "outputs": [
    {
     "name": "stdout",
     "output_type": "stream",
     "text": [
      "some starting statements\n",
      "1.c\n",
      "2.cpp\n",
      "3.php\n",
      "4.python\n",
      "Enter option:2\n",
      "info for cpp\n",
      "some other statements\n",
      "ending statements\n"
     ]
    }
   ],
   "source": [
    "print \"some starting statements\"\n",
    "print \"1.c\\n2.cpp\\n3.php\\n4.python\"\n",
    "opt = raw_input(\"Enter option:\")\n",
    "if opt == '1':\n",
    "    print \"info for c\"\n",
    "elif opt == '2':\n",
    "    print \"info for cpp\"\n",
    "elif opt == '3':\n",
    "    print \"info for php\"\n",
    "elif opt == '4':\n",
    "    print \"info for python\"\n",
    "else:\n",
    "    print \"invalid option\"\n",
    "print \"some other statements\"\n",
    "print \"ending statements\"\n"
   ]
  },
  {
   "cell_type": "code",
   "execution_count": 12,
   "metadata": {
    "collapsed": false
   },
   "outputs": [
    {
     "name": "stdout",
     "output_type": "stream",
     "text": [
      "some starting statements\n",
      "1.c\n",
      "2.cpp\n",
      "3.php\n",
      "4.python\n",
      "Enter option:6\n",
      "invalid option\n",
      "some other statements\n",
      "ending statements\n"
     ]
    }
   ],
   "source": [
    "print \"some starting statements\"\n",
    "print \"1.c\\n2.cpp\\n3.php\\n4.python\"\n",
    "a = raw_input(\"Enter option:\")\n",
    "if a == '1':\n",
    "    print \"info for c\"\n",
    "elif a == '2':\n",
    "    print \"info for cpp\"\n",
    "elif a == '3':\n",
    "    print \"info for php\"\n",
    "elif a == '4':\n",
    "    print \"info for python\"\n",
    "else:\n",
    "    print \"invalid option\"\n",
    "print \"some other statements\"\n",
    "print \"ending statements\"\n"
   ]
  },
  {
   "cell_type": "code",
   "execution_count": null,
   "metadata": {
    "collapsed": true
   },
   "outputs": [],
   "source": [
    "#looping statements for while\n",
    "print \"some starting statements\"\n",
    "i=0\n",
    "while i<10:\n",
    "    print i\n",
    "print \"some other statements\"\n",
    "print \"ending statements\"\n",
    "\n"
   ]
  },
  {
   "cell_type": "code",
   "execution_count": 13,
   "metadata": {
    "collapsed": false
   },
   "outputs": [
    {
     "name": "stdout",
     "output_type": "stream",
     "text": [
      "some starting statements\n",
      "0\n",
      "1\n",
      "2\n",
      "some other statements\n",
      "ending statements\n"
     ]
    }
   ],
   "source": [
    "#looping statements for while\n",
    "print \"some starting statements\"\n",
    "i=0\n",
    "while i<3:\n",
    "    print i\n",
    "    i=i+1\n",
    "print \"some other statements\"\n",
    "print \"ending statements\"\n",
    "\n"
   ]
  },
  {
   "cell_type": "code",
   "execution_count": null,
   "metadata": {
    "collapsed": true
   },
   "outputs": [],
   "source": [
    "#looping statements for while\n",
    "print \"some starting statements\"\n",
    "i=0\n",
    "while i<3:\n",
    "    print i\n",
    "i=i+1\n",
    "print \"some other statements\"\n",
    "print \"ending statements\"\n",
    "\n"
   ]
  },
  {
   "cell_type": "code",
   "execution_count": 14,
   "metadata": {
    "collapsed": false
   },
   "outputs": [
    {
     "name": "stdout",
     "output_type": "stream",
     "text": [
      "some starting statements\n",
      "1\n",
      "2\n",
      "3\n",
      "some other statements\n",
      "ending statements\n"
     ]
    }
   ],
   "source": [
    "#looping statements for while\n",
    "print \"some starting statements\"\n",
    "i=0\n",
    "while i<3:\n",
    "    i=i+1\n",
    "    print i\n",
    "print \"some other statements\"\n",
    "print \"ending statements\""
   ]
  },
  {
   "cell_type": "code",
   "execution_count": 15,
   "metadata": {
    "collapsed": false
   },
   "outputs": [
    {
     "name": "stdout",
     "output_type": "stream",
     "text": [
      "some starting statements\n",
      "i= 3\n",
      "some other statements\n",
      "ending statements\n"
     ]
    }
   ],
   "source": [
    "#looping statements for while\n",
    "print \"some starting statements\"\n",
    "i=0\n",
    "while i<3:\n",
    "    i=i+1\n",
    "print \"i=\",i\n",
    "print \"some other statements\"\n",
    "print \"ending statements\""
   ]
  },
  {
   "cell_type": "code",
   "execution_count": 16,
   "metadata": {
    "collapsed": false
   },
   "outputs": [
    {
     "name": "stdout",
     "output_type": "stream",
     "text": [
      "some starting statements\n",
      "iteration started\n",
      "i= a\n",
      "iteration ended\n",
      "iteration started\n",
      "i= b\n",
      "iteration ended\n",
      "iteration started\n",
      "i= c\n",
      "iteration ended\n",
      "some other statements\n",
      "ending statements\n"
     ]
    }
   ],
   "source": [
    "#looping statements for while\n",
    "print \"some starting statements\"\n",
    "for i in \"abc\":\n",
    "    print \"iteration started\"\n",
    "    print \"i=\",i\n",
    "    print \"iteration ended\"\n",
    "print \"some other statements\"\n",
    "print \"ending statements\""
   ]
  },
  {
   "cell_type": "code",
   "execution_count": 17,
   "metadata": {
    "collapsed": false
   },
   "outputs": [
    {
     "name": "stdout",
     "output_type": "stream",
     "text": [
      "a\n",
      "b\n",
      "c\n"
     ]
    },
    {
     "ename": "IndexError",
     "evalue": "string index out of range",
     "output_type": "error",
     "traceback": [
      "\u001b[0;31m---------------------------------------------------------------------------\u001b[0m",
      "\u001b[0;31mIndexError\u001b[0m                                Traceback (most recent call last)",
      "\u001b[0;32m<ipython-input-17-883251c41ec9>\u001b[0m in \u001b[0;36m<module>\u001b[0;34m()\u001b[0m\n\u001b[1;32m      3\u001b[0m \u001b[0;32mprint\u001b[0m \u001b[0ms\u001b[0m\u001b[0;34m[\u001b[0m\u001b[0;36m1\u001b[0m\u001b[0;34m]\u001b[0m\u001b[0;34m\u001b[0m\u001b[0m\n\u001b[1;32m      4\u001b[0m \u001b[0;32mprint\u001b[0m \u001b[0ms\u001b[0m\u001b[0;34m[\u001b[0m\u001b[0;36m2\u001b[0m\u001b[0;34m]\u001b[0m\u001b[0;34m\u001b[0m\u001b[0m\n\u001b[0;32m----> 5\u001b[0;31m \u001b[0;32mprint\u001b[0m \u001b[0ms\u001b[0m\u001b[0;34m[\u001b[0m\u001b[0;36m3\u001b[0m\u001b[0;34m]\u001b[0m\u001b[0;34m\u001b[0m\u001b[0m\n\u001b[0m",
      "\u001b[0;31mIndexError\u001b[0m: string index out of range"
     ]
    }
   ],
   "source": [
    "s=\"abc\"\n",
    "print s[0]\n",
    "print s[1]\n",
    "print s[2]\n",
    "print s[3]"
   ]
  },
  {
   "cell_type": "code",
   "execution_count": 18,
   "metadata": {
    "collapsed": false
   },
   "outputs": [
    {
     "name": "stdout",
     "output_type": "stream",
     "text": [
      "some starting statements\n",
      "Enter a value to iterate:python\n",
      "iteration started\n",
      "i= p\n",
      "iteration ended\n",
      "iteration started\n",
      "i= y\n",
      "iteration ended\n",
      "iteration started\n",
      "i= t\n",
      "iteration ended\n",
      "iteration started\n",
      "i= h\n",
      "iteration ended\n",
      "iteration started\n",
      "i= o\n",
      "iteration ended\n",
      "iteration started\n",
      "i= n\n",
      "iteration ended\n",
      "some other statements\n",
      "ending statements\n"
     ]
    }
   ],
   "source": [
    "# looping control statements break, continue\n",
    "#looping statements for while\n",
    "print \"some starting statements\"\n",
    "s=raw_input(\"Enter a value to iterate:\")\n",
    "for i in s:\n",
    "    print \"iteration started\"\n",
    "    print \"i=\",i\n",
    "    print \"iteration ended\"\n",
    "print \"some other statements\"\n",
    "print \"ending statements\""
   ]
  },
  {
   "cell_type": "code",
   "execution_count": 19,
   "metadata": {
    "collapsed": false
   },
   "outputs": [
    {
     "name": "stdout",
     "output_type": "stream",
     "text": [
      "some starting statements\n",
      "Enter a value to iterate:abc\n",
      "iteration started\n",
      "i= a\n",
      "iteration ended\n",
      "iteration started\n",
      "i= b\n",
      "iteration ended\n",
      "iteration started\n",
      "i= c\n",
      "iteration ended\n",
      "some other statements\n",
      "ending statements\n"
     ]
    }
   ],
   "source": [
    "# looping control statements break, continue\n",
    "#looping statements for while\n",
    "print \"some starting statements\"\n",
    "s=raw_input(\"Enter a value to iterate:\")\n",
    "for i in s:\n",
    "    print \"iteration started\"\n",
    "    print \"i=\",i\n",
    "    print \"iteration ended\"\n",
    "print \"some other statements\"\n",
    "print \"ending statements\""
   ]
  },
  {
   "cell_type": "code",
   "execution_count": 20,
   "metadata": {
    "collapsed": false
   },
   "outputs": [
    {
     "name": "stdout",
     "output_type": "stream",
     "text": [
      "some starting statements\n",
      "Enter a value to iterate:abc,def\n",
      "iteration started\n",
      "i= a\n",
      "iteration ended\n",
      "iteration started\n",
      "i= b\n",
      "iteration ended\n",
      "iteration started\n",
      "i= c\n",
      "iteration ended\n",
      "iteration started\n",
      "i= ,\n",
      "iteration ended\n",
      "iteration started\n",
      "i= d\n",
      "iteration ended\n",
      "iteration started\n",
      "i= e\n",
      "iteration ended\n",
      "iteration started\n",
      "i= f\n",
      "iteration ended\n",
      "some other statements\n",
      "ending statements\n"
     ]
    }
   ],
   "source": [
    "# looping control statements break, continue\n",
    "#looping statements for while\n",
    "print \"some starting statements\"\n",
    "s=raw_input(\"Enter a value to iterate:\")\n",
    "for i in s:\n",
    "    print \"iteration started\"\n",
    "    print \"i=\",i\n",
    "    print \"iteration ended\"\n",
    "print \"some other statements\"\n",
    "print \"ending statements\""
   ]
  },
  {
   "cell_type": "code",
   "execution_count": 21,
   "metadata": {
    "collapsed": false
   },
   "outputs": [
    {
     "name": "stdout",
     "output_type": "stream",
     "text": [
      "some starting statements\n",
      "Enter a value to iterate:ab,cd\n",
      "iteration started\n",
      "i= a\n",
      "iteration ended\n",
      "iteration started\n",
      "i= b\n",
      "iteration ended\n",
      "iteration started\n",
      "i= ,\n",
      "some other statements\n",
      "ending statements\n"
     ]
    }
   ],
   "source": [
    "# looping control statements break, continue\n",
    "#looping statements for while\n",
    "print \"some starting statements\"\n",
    "s=raw_input(\"Enter a value to iterate:\")\n",
    "for i in s:\n",
    "    print \"iteration started\"\n",
    "    print \"i=\",i\n",
    "    if i==\",\":\n",
    "        break\n",
    "    print \"iteration ended\"\n",
    "print \"some other statements\"\n",
    "print \"ending statements\""
   ]
  },
  {
   "cell_type": "code",
   "execution_count": 22,
   "metadata": {
    "collapsed": false
   },
   "outputs": [
    {
     "name": "stdout",
     "output_type": "stream",
     "text": [
      "some starting statements\n",
      "Enter a value to iterate:abc\n",
      "iteration started\n",
      "i= a\n",
      "iteration ended\n",
      "iteration started\n",
      "i= b\n",
      "iteration ended\n",
      "iteration started\n",
      "i= c\n",
      "iteration ended\n",
      "some other statements\n",
      "ending statements\n"
     ]
    }
   ],
   "source": [
    "# looping control statements break, continue\n",
    "#looping statements for while\n",
    "print \"some starting statements\"\n",
    "s=raw_input(\"Enter a value to iterate:\")\n",
    "for i in s:\n",
    "    print \"iteration started\"\n",
    "    print \"i=\",i\n",
    "    if i==\",\":\n",
    "        break\n",
    "    print \"iteration ended\"\n",
    "print \"some other statements\"\n",
    "print \"ending statements\""
   ]
  },
  {
   "cell_type": "code",
   "execution_count": 23,
   "metadata": {
    "collapsed": false
   },
   "outputs": [
    {
     "name": "stdout",
     "output_type": "stream",
     "text": [
      "some starting statements\n",
      "Enter a value to iterate:1\n",
      "iteration started\n",
      "i= 1\n",
      "iteration ended\n",
      "some other statements\n",
      "ending statements\n"
     ]
    }
   ],
   "source": [
    "# looping control statements break, continue\n",
    "#looping statements for while\n",
    "print \"some starting statements\"\n",
    "s=raw_input(\"Enter a value to iterate:\")\n",
    "for i in s:\n",
    "    print \"iteration started\"\n",
    "    print \"i=\",i\n",
    "    if i==\",\":\n",
    "        break\n",
    "    print \"iteration ended\"\n",
    "print \"some other statements\"\n",
    "print \"ending statements\""
   ]
  },
  {
   "cell_type": "code",
   "execution_count": 24,
   "metadata": {
    "collapsed": false
   },
   "outputs": [
    {
     "name": "stdout",
     "output_type": "stream",
     "text": [
      "some starting statements\n",
      "Enter a value to iterate:1234\n",
      "iteration started\n",
      "i= 1\n",
      "iteration ended\n",
      "iteration started\n",
      "i= 2\n",
      "iteration ended\n",
      "iteration started\n",
      "i= 3\n",
      "iteration ended\n",
      "iteration started\n",
      "i= 4\n",
      "iteration ended\n",
      "some other statements\n",
      "ending statements\n"
     ]
    }
   ],
   "source": [
    "# looping control statements break, continue\n",
    "#looping statements for while\n",
    "print \"some starting statements\"\n",
    "s=raw_input(\"Enter a value to iterate:\")\n",
    "for i in s:\n",
    "    print \"iteration started\"\n",
    "    print \"i=\",i\n",
    "    if i==\",\":\n",
    "        break\n",
    "    print \"iteration ended\"\n",
    "print \"some other statements\"\n",
    "print \"ending statements\""
   ]
  },
  {
   "cell_type": "code",
   "execution_count": 25,
   "metadata": {
    "collapsed": false
   },
   "outputs": [
    {
     "name": "stdout",
     "output_type": "stream",
     "text": [
      "1\n",
      "2\n",
      "3\n"
     ]
    }
   ],
   "source": [
    "for i in  \"123\":\n",
    "    print i"
   ]
  },
  {
   "cell_type": "code",
   "execution_count": 26,
   "metadata": {
    "collapsed": false
   },
   "outputs": [
    {
     "ename": "TypeError",
     "evalue": "'int' object is not iterable",
     "output_type": "error",
     "traceback": [
      "\u001b[0;31m---------------------------------------------------------------------------\u001b[0m",
      "\u001b[0;31mTypeError\u001b[0m                                 Traceback (most recent call last)",
      "\u001b[0;32m<ipython-input-26-b485a5754726>\u001b[0m in \u001b[0;36m<module>\u001b[0;34m()\u001b[0m\n\u001b[0;32m----> 1\u001b[0;31m \u001b[0;32mfor\u001b[0m \u001b[0mi\u001b[0m \u001b[0;32min\u001b[0m  \u001b[0;36m123\u001b[0m\u001b[0;34m:\u001b[0m\u001b[0;34m\u001b[0m\u001b[0m\n\u001b[0m\u001b[1;32m      2\u001b[0m     \u001b[0;32mprint\u001b[0m \u001b[0mi\u001b[0m\u001b[0;34m\u001b[0m\u001b[0m\n",
      "\u001b[0;31mTypeError\u001b[0m: 'int' object is not iterable"
     ]
    }
   ],
   "source": [
    "for i in  123:\n",
    "    print i"
   ]
  },
  {
   "cell_type": "code",
   "execution_count": 27,
   "metadata": {
    "collapsed": false
   },
   "outputs": [
    {
     "ename": "TypeError",
     "evalue": "'bool' object is not iterable",
     "output_type": "error",
     "traceback": [
      "\u001b[0;31m---------------------------------------------------------------------------\u001b[0m",
      "\u001b[0;31mTypeError\u001b[0m                                 Traceback (most recent call last)",
      "\u001b[0;32m<ipython-input-27-a05ebf73e86d>\u001b[0m in \u001b[0;36m<module>\u001b[0;34m()\u001b[0m\n\u001b[0;32m----> 1\u001b[0;31m \u001b[0;32mfor\u001b[0m \u001b[0mi\u001b[0m \u001b[0;32min\u001b[0m \u001b[0mTrue\u001b[0m\u001b[0;34m:\u001b[0m\u001b[0;34m\u001b[0m\u001b[0m\n\u001b[0m\u001b[1;32m      2\u001b[0m     \u001b[0;32mprint\u001b[0m \u001b[0mi\u001b[0m\u001b[0;34m\u001b[0m\u001b[0m\n",
      "\u001b[0;31mTypeError\u001b[0m: 'bool' object is not iterable"
     ]
    }
   ],
   "source": [
    "for i in True:\n",
    "    print i"
   ]
  },
  {
   "cell_type": "code",
   "execution_count": 28,
   "metadata": {
    "collapsed": false
   },
   "outputs": [
    {
     "ename": "TypeError",
     "evalue": "'NoneType' object is not iterable",
     "output_type": "error",
     "traceback": [
      "\u001b[0;31m---------------------------------------------------------------------------\u001b[0m",
      "\u001b[0;31mTypeError\u001b[0m                                 Traceback (most recent call last)",
      "\u001b[0;32m<ipython-input-28-14b074aa601a>\u001b[0m in \u001b[0;36m<module>\u001b[0;34m()\u001b[0m\n\u001b[0;32m----> 1\u001b[0;31m \u001b[0;32mfor\u001b[0m \u001b[0mi\u001b[0m \u001b[0;32min\u001b[0m \u001b[0mNone\u001b[0m\u001b[0;34m:\u001b[0m\u001b[0;34m\u001b[0m\u001b[0m\n\u001b[0m\u001b[1;32m      2\u001b[0m     \u001b[0;32mprint\u001b[0m \u001b[0mi\u001b[0m\u001b[0;34m\u001b[0m\u001b[0m\n",
      "\u001b[0;31mTypeError\u001b[0m: 'NoneType' object is not iterable"
     ]
    }
   ],
   "source": [
    "for i in None:\n",
    "    print i"
   ]
  },
  {
   "cell_type": "code",
   "execution_count": 30,
   "metadata": {
    "collapsed": false
   },
   "outputs": [
    {
     "name": "stdout",
     "output_type": "stream",
     "text": [
      "with raw_input:with raw_input:with raw_input:\n",
      "Enter a value:12\n",
      "12\n",
      "<type 'str'>\n",
      "with inputwith inputwith input\n",
      "Enter a value:12\n",
      "12\n",
      "<type 'int'>\n"
     ]
    }
   ],
   "source": [
    "print \"with raw_input:\"*3\n",
    "a=raw_input(\"Enter a value:\")\n",
    "print a\n",
    "print type(a)\n",
    "print \"with input\"*3\n",
    "a=input(\"Enter a value:\")\n",
    "print a\n",
    "print type(a)"
   ]
  },
  {
   "cell_type": "code",
   "execution_count": 31,
   "metadata": {
    "collapsed": false
   },
   "outputs": [
    {
     "name": "stdout",
     "output_type": "stream",
     "text": [
      "with raw_input:with raw_input:with raw_input:\n",
      "Enter a value:12.34\n",
      "12.34\n",
      "<type 'str'>\n",
      "with inputwith inputwith input\n",
      "Enter a value:12.34\n",
      "12.34\n",
      "<type 'float'>\n"
     ]
    }
   ],
   "source": [
    "print \"with raw_input:\"*3\n",
    "a=raw_input(\"Enter a value:\")\n",
    "print a\n",
    "print type(a)\n",
    "print \"with input\"*3\n",
    "a=input(\"Enter a value:\")\n",
    "print a\n",
    "print type(a)"
   ]
  },
  {
   "cell_type": "code",
   "execution_count": 32,
   "metadata": {
    "collapsed": false
   },
   "outputs": [
    {
     "name": "stdout",
     "output_type": "stream",
     "text": [
      "with raw_input:with raw_input:with raw_input:\n",
      "Enter a value:[1,2,3,4]\n",
      "[1,2,3,4]\n",
      "<type 'str'>\n",
      "with inputwith inputwith input\n",
      "Enter a value:[1,2,3,4]\n",
      "[1, 2, 3, 4]\n",
      "<type 'list'>\n"
     ]
    }
   ],
   "source": [
    "print \"with raw_input:\"*3\n",
    "a=raw_input(\"Enter a value:\")\n",
    "print a\n",
    "print type(a)\n",
    "print \"with input\"*3\n",
    "a=input(\"Enter a value:\")\n",
    "print a\n",
    "print type(a)"
   ]
  },
  {
   "cell_type": "code",
   "execution_count": 33,
   "metadata": {
    "collapsed": false
   },
   "outputs": [
    {
     "name": "stdout",
     "output_type": "stream",
     "text": [
      "with raw_input:with raw_input:with raw_input:\n",
      "Enter a value:1,2,3,4\n",
      "1,2,3,4\n",
      "<type 'str'>\n",
      "with inputwith inputwith input\n",
      "Enter a value:1,2,3,4\n",
      "(1, 2, 3, 4)\n",
      "<type 'tuple'>\n"
     ]
    }
   ],
   "source": [
    "print \"with raw_input:\"*3\n",
    "a=raw_input(\"Enter a value:\")\n",
    "print a\n",
    "print type(a)\n",
    "print \"with input\"*3\n",
    "a=input(\"Enter a value:\")\n",
    "print a\n",
    "print type(a)"
   ]
  },
  {
   "cell_type": "code",
   "execution_count": 34,
   "metadata": {
    "collapsed": false
   },
   "outputs": [
    {
     "name": "stdout",
     "output_type": "stream",
     "text": [
      "<type 'list'>\n"
     ]
    }
   ],
   "source": [
    "a=[1,2,3,4]\n",
    "print type(a)"
   ]
  },
  {
   "cell_type": "code",
   "execution_count": 35,
   "metadata": {
    "collapsed": false
   },
   "outputs": [
    {
     "name": "stdout",
     "output_type": "stream",
     "text": [
      "with raw_input:with raw_input:with raw_input:\n",
      "Enter a value:python\n",
      "python\n",
      "<type 'str'>\n",
      "with inputwith inputwith input\n",
      "Enter a value:python\n"
     ]
    },
    {
     "ename": "NameError",
     "evalue": "name 'python' is not defined",
     "output_type": "error",
     "traceback": [
      "\u001b[0;31m---------------------------------------------------------------------------\u001b[0m",
      "\u001b[0;31mNameError\u001b[0m                                 Traceback (most recent call last)",
      "\u001b[0;32m<ipython-input-35-130a8e4fd4b6>\u001b[0m in \u001b[0;36m<module>\u001b[0;34m()\u001b[0m\n\u001b[1;32m      4\u001b[0m \u001b[0;32mprint\u001b[0m \u001b[0mtype\u001b[0m\u001b[0;34m(\u001b[0m\u001b[0ma\u001b[0m\u001b[0;34m)\u001b[0m\u001b[0;34m\u001b[0m\u001b[0m\n\u001b[1;32m      5\u001b[0m \u001b[0;32mprint\u001b[0m \u001b[0;34m\"with input\"\u001b[0m\u001b[0;34m*\u001b[0m\u001b[0;36m3\u001b[0m\u001b[0;34m\u001b[0m\u001b[0m\n\u001b[0;32m----> 6\u001b[0;31m \u001b[0ma\u001b[0m\u001b[0;34m=\u001b[0m\u001b[0minput\u001b[0m\u001b[0;34m(\u001b[0m\u001b[0;34m\"Enter a value:\"\u001b[0m\u001b[0;34m)\u001b[0m\u001b[0;34m\u001b[0m\u001b[0m\n\u001b[0m\u001b[1;32m      7\u001b[0m \u001b[0;32mprint\u001b[0m \u001b[0ma\u001b[0m\u001b[0;34m\u001b[0m\u001b[0m\n\u001b[1;32m      8\u001b[0m \u001b[0;32mprint\u001b[0m \u001b[0mtype\u001b[0m\u001b[0;34m(\u001b[0m\u001b[0ma\u001b[0m\u001b[0;34m)\u001b[0m\u001b[0;34m\u001b[0m\u001b[0m\n",
      "\u001b[0;32m/home/tcloudost/Downloads/yes/lib/python2.7/site-packages/ipykernel/ipkernel.pyc\u001b[0m in \u001b[0;36m<lambda>\u001b[0;34m(prompt)\u001b[0m\n\u001b[1;32m    162\u001b[0m             \u001b[0mself\u001b[0m\u001b[0;34m.\u001b[0m\u001b[0m_sys_eval_input\u001b[0m \u001b[0;34m=\u001b[0m \u001b[0mbuiltin_mod\u001b[0m\u001b[0;34m.\u001b[0m\u001b[0minput\u001b[0m\u001b[0;34m\u001b[0m\u001b[0m\n\u001b[1;32m    163\u001b[0m             \u001b[0mbuiltin_mod\u001b[0m\u001b[0;34m.\u001b[0m\u001b[0mraw_input\u001b[0m \u001b[0;34m=\u001b[0m \u001b[0mself\u001b[0m\u001b[0;34m.\u001b[0m\u001b[0mraw_input\u001b[0m\u001b[0;34m\u001b[0m\u001b[0m\n\u001b[0;32m--> 164\u001b[0;31m             \u001b[0mbuiltin_mod\u001b[0m\u001b[0;34m.\u001b[0m\u001b[0minput\u001b[0m \u001b[0;34m=\u001b[0m \u001b[0;32mlambda\u001b[0m \u001b[0mprompt\u001b[0m\u001b[0;34m=\u001b[0m\u001b[0;34m''\u001b[0m\u001b[0;34m:\u001b[0m \u001b[0meval\u001b[0m\u001b[0;34m(\u001b[0m\u001b[0mself\u001b[0m\u001b[0;34m.\u001b[0m\u001b[0mraw_input\u001b[0m\u001b[0;34m(\u001b[0m\u001b[0mprompt\u001b[0m\u001b[0;34m)\u001b[0m\u001b[0;34m)\u001b[0m\u001b[0;34m\u001b[0m\u001b[0m\n\u001b[0m\u001b[1;32m    165\u001b[0m         \u001b[0mself\u001b[0m\u001b[0;34m.\u001b[0m\u001b[0m_save_getpass\u001b[0m \u001b[0;34m=\u001b[0m \u001b[0mgetpass\u001b[0m\u001b[0;34m.\u001b[0m\u001b[0mgetpass\u001b[0m\u001b[0;34m\u001b[0m\u001b[0m\n\u001b[1;32m    166\u001b[0m         \u001b[0mgetpass\u001b[0m\u001b[0;34m.\u001b[0m\u001b[0mgetpass\u001b[0m \u001b[0;34m=\u001b[0m \u001b[0mself\u001b[0m\u001b[0;34m.\u001b[0m\u001b[0mgetpass\u001b[0m\u001b[0;34m\u001b[0m\u001b[0m\n",
      "\u001b[0;32m/home/tcloudost/Downloads/yes/lib/python2.7/site-packages/ipykernel/ipkernel.pyc\u001b[0m in \u001b[0;36m<module>\u001b[0;34m()\u001b[0m\n",
      "\u001b[0;31mNameError\u001b[0m: name 'python' is not defined"
     ]
    }
   ],
   "source": [
    "print \"with raw_input:\"*3\n",
    "a=raw_input(\"Enter a value:\")\n",
    "print a\n",
    "print type(a)\n",
    "print \"with input\"*3\n",
    "a=input(\"Enter a value:\")\n",
    "print a\n",
    "print type(a)"
   ]
  },
  {
   "cell_type": "code",
   "execution_count": 36,
   "metadata": {
    "collapsed": false
   },
   "outputs": [
    {
     "ename": "NameError",
     "evalue": "name 'python' is not defined",
     "output_type": "error",
     "traceback": [
      "\u001b[0;31m---------------------------------------------------------------------------\u001b[0m",
      "\u001b[0;31mNameError\u001b[0m                                 Traceback (most recent call last)",
      "\u001b[0;32m<ipython-input-36-ef502d63e904>\u001b[0m in \u001b[0;36m<module>\u001b[0;34m()\u001b[0m\n\u001b[0;32m----> 1\u001b[0;31m \u001b[0ma\u001b[0m\u001b[0;34m=\u001b[0m\u001b[0mpython\u001b[0m\u001b[0;34m\u001b[0m\u001b[0m\n\u001b[0m",
      "\u001b[0;31mNameError\u001b[0m: name 'python' is not defined"
     ]
    }
   ],
   "source": [
    "a=python"
   ]
  },
  {
   "cell_type": "code",
   "execution_count": 37,
   "metadata": {
    "collapsed": false
   },
   "outputs": [
    {
     "name": "stdout",
     "output_type": "stream",
     "text": [
      "with raw_input:with raw_input:with raw_input:\n",
      "Enter a value:python\n",
      "python\n",
      "<type 'str'>\n",
      "with inputwith inputwith input\n",
      "Enter a value:\"python\"\n",
      "python\n",
      "<type 'str'>\n"
     ]
    }
   ],
   "source": [
    "print \"with raw_input:\"*3\n",
    "a=raw_input(\"Enter a value:\")\n",
    "print a\n",
    "print type(a)\n",
    "print \"with input\"*3\n",
    "a=input(\"Enter a value:\")\n",
    "print a\n",
    "print type(a)"
   ]
  },
  {
   "cell_type": "code",
   "execution_count": 38,
   "metadata": {
    "collapsed": false
   },
   "outputs": [
    {
     "name": "stdout",
     "output_type": "stream",
     "text": [
      "Enter a value:12\n",
      "Enter b value:34\n",
      "46\n"
     ]
    }
   ],
   "source": [
    "a=input(\"Enter a value:\")\n",
    "b=input(\"Enter b value:\")\n",
    "print a+b"
   ]
  },
  {
   "cell_type": "code",
   "execution_count": 39,
   "metadata": {
    "collapsed": false
   },
   "outputs": [
    {
     "name": "stdout",
     "output_type": "stream",
     "text": [
      "Enter a value:1,2,3,4\n",
      "Enter b value:5,6,7,8\n",
      "(1, 2, 3, 4, 5, 6, 7, 8)\n"
     ]
    }
   ],
   "source": [
    "a=input(\"Enter a value:\")\n",
    "b=input(\"Enter b value:\")\n",
    "print a+b"
   ]
  },
  {
   "cell_type": "code",
   "execution_count": 40,
   "metadata": {
    "collapsed": false
   },
   "outputs": [
    {
     "name": "stdout",
     "output_type": "stream",
     "text": [
      "Enter a value:\"12\"\n",
      "Enter b value:\"34\"\n",
      "1234\n"
     ]
    }
   ],
   "source": [
    "a=input(\"Enter a value:\")\n",
    "b=input(\"Enter b value:\")\n",
    "print a+b"
   ]
  },
  {
   "cell_type": "code",
   "execution_count": 41,
   "metadata": {
    "collapsed": false
   },
   "outputs": [
    {
     "name": "stdout",
     "output_type": "stream",
     "text": [
      "sdfsdfds\n"
     ]
    }
   ],
   "source": [
    "if 10<20:\n",
    "    print \"sdfsdfds\"\n"
   ]
  },
  {
   "cell_type": "code",
   "execution_count": 42,
   "metadata": {
    "collapsed": false
   },
   "outputs": [
    {
     "name": "stdout",
     "output_type": "stream",
     "text": [
      "sdfsdfds\n"
     ]
    }
   ],
   "source": [
    "if 10<20:\n",
    "    print \"sdfsdfds\"\n",
    "else:\n",
    "    pass"
   ]
  },
  {
   "cell_type": "code",
   "execution_count": 43,
   "metadata": {
    "collapsed": false
   },
   "outputs": [
    {
     "ename": "IndentationError",
     "evalue": "expected an indented block (<ipython-input-43-d3120ce1045d>, line 3)",
     "output_type": "error",
     "traceback": [
      "\u001b[0;36m  File \u001b[0;32m\"<ipython-input-43-d3120ce1045d>\"\u001b[0;36m, line \u001b[0;32m3\u001b[0m\n\u001b[0;31m    else:\u001b[0m\n\u001b[0m         ^\u001b[0m\n\u001b[0;31mIndentationError\u001b[0m\u001b[0;31m:\u001b[0m expected an indented block\n"
     ]
    }
   ],
   "source": [
    "if 10<20:\n",
    "    print \"sdfsdfds\"\n",
    "else:\n"
   ]
  },
  {
   "cell_type": "code",
   "execution_count": 44,
   "metadata": {
    "collapsed": false
   },
   "outputs": [
    {
     "name": "stdout",
     "output_type": "stream",
     "text": [
      "asdadasd\n",
      "sdfsdfds\n"
     ]
    }
   ],
   "source": [
    "if 10<20:\n",
    "    pass\n",
    "    print \"asdadasd\" \n",
    "    print \"sdfsdfds\"\n",
    "else:\n",
    "    pass"
   ]
  },
  {
   "cell_type": "code",
   "execution_count": 46,
   "metadata": {
    "collapsed": false
   },
   "outputs": [
    {
     "name": "stdout",
     "output_type": "stream",
     "text": [
      "some starting statements\n",
      "Enter a value to iterate:ab cd,ef\n",
      "iteration started\n",
      "a\n",
      "iteration ended\n",
      "iteration started\n",
      "b\n",
      "iteration ended\n",
      "iteration started\n",
      "iteration ended\n",
      "iteration started\n",
      "c\n",
      "iteration ended\n",
      "iteration started\n",
      "d\n",
      "iteration ended\n",
      "iteration started\n",
      "iteration ended\n",
      "iteration started\n",
      "e\n",
      "iteration ended\n",
      "iteration started\n",
      "f\n",
      "iteration ended\n",
      "some other statements\n",
      "ending statements\n"
     ]
    }
   ],
   "source": [
    "# looping control statements break, continue\n",
    "#looping statements for while\n",
    "print \"some starting statements\"\n",
    "s=raw_input(\"Enter a value to iterate:\")\n",
    "for i in s:\n",
    "    print \"iteration started\"\n",
    "    if i!=\" \" and i!=\",\":\n",
    "        print i\n",
    "    print \"iteration ended\"\n",
    "print \"some other statements\"\n",
    "print \"ending statements\""
   ]
  },
  {
   "cell_type": "code",
   "execution_count": 47,
   "metadata": {
    "collapsed": false
   },
   "outputs": [
    {
     "name": "stdout",
     "output_type": "stream",
     "text": [
      "some starting statements\n",
      "Enter a value to iterate:a b c d\n",
      "a\n",
      " \n",
      "b\n",
      " \n",
      "c\n",
      " \n",
      "d\n",
      "some other statements\n",
      "ending statements\n"
     ]
    }
   ],
   "source": [
    "# looping control statements break, continue\n",
    "#looping statements for while\n",
    "print \"some starting statements\"\n",
    "s=raw_input(\"Enter a value to iterate:\")\n",
    "for i in s:\n",
    "    print i \n",
    "print \"some other statements\"\n",
    "print \"ending statements\""
   ]
  },
  {
   "cell_type": "code",
   "execution_count": 48,
   "metadata": {
    "collapsed": false
   },
   "outputs": [
    {
     "name": "stdout",
     "output_type": "stream",
     "text": [
      "some starting statements\n",
      "Enter a value to iterate:a b c\n",
      "iteration started\n",
      "a\n",
      "iteration ended\n",
      "iteration started\n",
      "iteration started\n",
      "b\n",
      "iteration ended\n",
      "iteration started\n",
      "iteration started\n",
      "c\n",
      "iteration ended\n",
      "some other statements\n",
      "ending statements\n"
     ]
    }
   ],
   "source": [
    "# looping control statements break, continue\n",
    "#looping statements for while\n",
    "print \"some starting statements\"\n",
    "s=raw_input(\"Enter a value to iterate:\")\n",
    "for i in s:\n",
    "    print \"iteration started\"\n",
    "    if i!= \" \":\n",
    "        print i \n",
    "        print \"iteration ended\"\n",
    "print \"some other statements\"\n",
    "print \"ending statements\""
   ]
  },
  {
   "cell_type": "code",
   "execution_count": 50,
   "metadata": {
    "collapsed": false
   },
   "outputs": [
    {
     "name": "stdout",
     "output_type": "stream",
     "text": [
      "some starting statements\n",
      "Enter a value to iterate:a b c\n",
      "iteration started\n",
      "a\n",
      "iteration ended\n",
      "iteration started\n",
      "iteration started\n",
      "b\n",
      "iteration ended\n",
      "iteration started\n",
      "iteration started\n",
      "c\n",
      "iteration ended\n",
      "some other statements\n",
      "ending statements\n"
     ]
    }
   ],
   "source": [
    "# looping control statements break, continue\n",
    "#looping statements for while\n",
    "print \"some starting statements\"\n",
    "s=raw_input(\"Enter a value to iterate:\")\n",
    "for i in s:\n",
    "    print \"iteration started\"\n",
    "    if i == \" \":\n",
    "        continue\n",
    "    print i \n",
    "    print \"iteration ended\"\n",
    "print \"some other statements\"\n",
    "print \"ending statements\""
   ]
  },
  {
   "cell_type": "code",
   "execution_count": 51,
   "metadata": {
    "collapsed": false
   },
   "outputs": [
    {
     "name": "stdout",
     "output_type": "stream",
     "text": [
      "some starting statements\n",
      "Enter a value to iterate:a b c\n",
      "iteration started\n",
      "a\n",
      "iteration ended\n",
      "iteration started\n",
      " \n",
      "iteration ended\n",
      "iteration started\n",
      "b\n",
      "iteration ended\n",
      "iteration started\n",
      " \n",
      "iteration ended\n",
      "iteration started\n",
      "c\n",
      "iteration ended\n",
      "some other statements\n",
      "ending statements\n"
     ]
    }
   ],
   "source": [
    "# looping control statements break, continue\n",
    "#looping statements for while\n",
    "print \"some starting statements\"\n",
    "s=raw_input(\"Enter a value to iterate:\")\n",
    "for i in s:\n",
    "    print \"iteration started\"\n",
    "    print i \n",
    "    print \"iteration ended\"\n",
    "    if i == \" \":\n",
    "        continue\n",
    "print \"some other statements\"\n",
    "print \"ending statements\""
   ]
  },
  {
   "cell_type": "code",
   "execution_count": 52,
   "metadata": {
    "collapsed": false
   },
   "outputs": [
    {
     "name": "stdout",
     "output_type": "stream",
     "text": [
      "some starting statements\n",
      "Enter a value to iterate:a b c\n",
      "iteration started\n",
      "a\n",
      "iteration ended\n",
      "iteration started\n",
      " \n",
      "iteration ended\n",
      "iteration started\n",
      "b\n",
      "iteration ended\n",
      "iteration started\n",
      " \n",
      "iteration ended\n",
      "iteration started\n",
      "c\n",
      "iteration ended\n",
      "some other statements\n",
      "ending statements\n"
     ]
    }
   ],
   "source": [
    "# looping control statements break, continue\n",
    "#looping statements for while\n",
    "print \"some starting statements\"\n",
    "s=raw_input(\"Enter a value to iterate:\")\n",
    "for i in s:\n",
    "    print \"iteration started\"\n",
    "    print i \n",
    "    print \"iteration ended\"\n",
    "    \n",
    "print \"some other statements\"\n",
    "print \"ending statements\""
   ]
  },
  {
   "cell_type": "code",
   "execution_count": 53,
   "metadata": {
    "collapsed": true
   },
   "outputs": [],
   "source": [
    "i=0\n",
    "while i<10:\n",
    "    break\n",
    "    print i\n"
   ]
  },
  {
   "cell_type": "code",
   "execution_count": 54,
   "metadata": {
    "collapsed": false
   },
   "outputs": [
    {
     "name": "stdout",
     "output_type": "stream",
     "text": [
      "0\n"
     ]
    }
   ],
   "source": [
    "i=0\n",
    "while i<10:\n",
    "    print i\n",
    "    break"
   ]
  },
  {
   "cell_type": "code",
   "execution_count": 55,
   "metadata": {
    "collapsed": false
   },
   "outputs": [
    {
     "name": "stdout",
     "output_type": "stream",
     "text": [
      "1\n"
     ]
    }
   ],
   "source": [
    "i=0\n",
    "while i<10:\n",
    "    i=i+1\n",
    "    break\n",
    "print i"
   ]
  },
  {
   "cell_type": "code",
   "execution_count": 56,
   "metadata": {
    "collapsed": false
   },
   "outputs": [
    {
     "name": "stdout",
     "output_type": "stream",
     "text": [
      "10\n"
     ]
    }
   ],
   "source": [
    "i=0\n",
    "while i<10:\n",
    "    i=i+1\n",
    "    continue\n",
    "print i"
   ]
  },
  {
   "cell_type": "code",
   "execution_count": null,
   "metadata": {
    "collapsed": true
   },
   "outputs": [],
   "source": [
    "i=0\n",
    "while i<10:\n",
    "    continue\n",
    "    i=i+1\n",
    "print i"
   ]
  },
  {
   "cell_type": "code",
   "execution_count": 57,
   "metadata": {
    "collapsed": false
   },
   "outputs": [
    {
     "name": "stdout",
     "output_type": "stream",
     "text": [
      "10\n"
     ]
    }
   ],
   "source": [
    "i=0\n",
    "while i<10:\n",
    "    i=i+1\n",
    "    continue\n",
    "    print i\n",
    "print i"
   ]
  },
  {
   "cell_type": "code",
   "execution_count": null,
   "metadata": {
    "collapsed": true
   },
   "outputs": [],
   "source": []
  }
 ],
 "metadata": {
  "kernelspec": {
   "display_name": "Python 2",
   "language": "python",
   "name": "python2"
  },
  "language_info": {
   "codemirror_mode": {
    "name": "ipython",
    "version": 2
   },
   "file_extension": ".py",
   "mimetype": "text/x-python",
   "name": "python",
   "nbconvert_exporter": "python",
   "pygments_lexer": "ipython2",
   "version": "2.7.13"
  }
 },
 "nbformat": 4,
 "nbformat_minor": 2
}
